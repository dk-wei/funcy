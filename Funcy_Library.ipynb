{
  "nbformat": 4,
  "nbformat_minor": 0,
  "metadata": {
    "colab": {
      "name": "Funcy Library.ipynb",
      "provenance": [],
      "authorship_tag": "ABX9TyPptmVBBFGKJnSlB6HnJ+jj",
      "include_colab_link": true
    },
    "kernelspec": {
      "name": "python3",
      "display_name": "Python 3"
    }
  },
  "cells": [
    {
      "cell_type": "markdown",
      "metadata": {
        "id": "view-in-github",
        "colab_type": "text"
      },
      "source": [
        "<a href=\"https://colab.research.google.com/github/dk-wei/funcy/blob/main/Funcy_Library.ipynb\" target=\"_parent\"><img src=\"https://colab.research.google.com/assets/colab-badge.svg\" alt=\"Open In Colab\"/></a>"
      ]
    },
    {
      "cell_type": "code",
      "metadata": {
        "colab": {
          "base_uri": "https://localhost:8080/"
        },
        "id": "8Zo-chv77yEp",
        "outputId": "ea4e76a1-8bf4-4637-9c63-6898a48af777"
      },
      "source": [
        "!pip install funcy"
      ],
      "execution_count": 2,
      "outputs": [
        {
          "output_type": "stream",
          "text": [
            "Collecting funcy\n",
            "  Downloading https://files.pythonhosted.org/packages/66/89/479de0afbbfb98d1c4b887936808764627300208bb771fcd823403645a36/funcy-1.15-py2.py3-none-any.whl\n",
            "Installing collected packages: funcy\n",
            "Successfully installed funcy-1.15\n"
          ],
          "name": "stdout"
        }
      ]
    },
    {
      "cell_type": "markdown",
      "metadata": {
        "id": "wZwpl87sMhWy"
      },
      "source": [
        "# Overview\n",
        "\n",
        "Import stuff from funcy to make things happen:\n",
        "\n",
        "`from funcy import whatever, you, need`\n",
        "\n",
        "Merge collections of same type (works for dicts, sets, lists, tuples, iterators and even strings):\n",
        "```\n",
        "merge(coll1, coll2, coll3, ...)\n",
        "join(colls)\n",
        "merge_with(sum, dict1, dict2, ...)\n",
        "```\n",
        "Walk through collection, creating its transform (like map but preserves type):\n",
        "```\n",
        "walk(str.upper, {'a', 'b'})            # {'A', 'B'}\n",
        "walk(reversed, {'a': 1, 'b': 2})       # {1: 'a', 2: 'b'}\n",
        "walk_keys(double, {'a': 1, 'b': 2})    # {'aa': 1, 'bb': 2}\n",
        "walk_values(inc, {'a': 1, 'b': 2})     # {'a': 2, 'b': 3}\n",
        "```\n",
        "Select a part of collection:\n",
        "```\n",
        "select(even, {1,2,3,10,20})                  # {2,10,20}\n",
        "select(r'^a', ('a','b','ab','ba'))           # ('a','ab')\n",
        "select_keys(callable, {str: '', None: None}) # {str: ''}\n",
        "compact({2, None, 1, 0})                     # {1,2}\n",
        "```\n",
        "Manipulate sequences:\n",
        "```\n",
        "take(4, iterate(double, 1)) # [1, 2, 4, 8]\n",
        "first(drop(3, count(10)))   # 13\n",
        "\n",
        "lremove(even, [1, 2, 3])    # [1, 3]\n",
        "lconcat([1, 2], [5, 6])     # [1, 2, 5, 6]\n",
        "lcat(map(range, range(4)))  # [0, 0, 1, 0, 1, 2]\n",
        "lmapcat(range, range(4))    # same\n",
        "flatten(nested_structure)   # flat iter\n",
        "distinct('abacbdd')         # iter('abcd')\n",
        "\n",
        "lsplit(odd, range(5))       # ([1, 3], [0, 2, 4])\n",
        "lsplit_at(2, range(5))      # ([0, 1], [2, 3, 4])\n",
        "group_by(mod3, range(5))    # {0: [0, 3], 1: [1, 4], 2: [2]}\n",
        "\n",
        "lpartition(2, range(5))     # [[0, 1], [2, 3]]\n",
        "chunks(2, range(5))         # iter: [0, 1], [2, 3], [4]\n",
        "pairwise(range(5))          # iter: [0, 1], [1, 2], ...\n",
        "```\n",
        "And functions:\n",
        "```\n",
        "partial(add, 1)             # inc\n",
        "curry(add)(1)(2)            # 3\n",
        "compose(inc, double)(10)    # 21\n",
        "complement(even)            # odd\n",
        "all_fn(isa(int), even)      # is_even_int\n",
        "\n",
        "one_third = rpartial(operator.div, 3.0)\n",
        "has_suffix = rcurry(str.endswith)\n",
        "```\n",
        "Create decorators easily:\n",
        "```\n",
        "@decorator\n",
        "def log(call):\n",
        "    print call._func.__name__, call._args\n",
        "    return call()\n",
        "```\n",
        "Abstract control flow:\n",
        "```\n",
        "walk_values(silent(int), {'a': '1', 'b': 'no'})\n",
        "# => {'a': 1, 'b': None}\n",
        "\n",
        "@once\n",
        "def initialize():\n",
        "    \"...\"\n",
        "\n",
        "with suppress(OSError):\n",
        "    os.remove('some.file')\n",
        "\n",
        "@ignore(ErrorRateExceeded)\n",
        "@limit_error_rate(fails=5, timeout=60)\n",
        "@retry(tries=2, errors=(HttpError, ServiceDown))\n",
        "def some_unreliable_action(...):\n",
        "    \"...\"\n",
        "\n",
        "class MyUser(AbstractBaseUser):\n",
        "    @cached_property\n",
        "    def public_phones(self):\n",
        "        return self.phones.filter(public=True)\n",
        "```\n",
        "Ease debugging:\n",
        "```\n",
        "squares = {tap(x, 'x'): tap(x * x, 'x^2') for x in [3, 4]}\n",
        "# x: 3\n",
        "# x^2: 9\n",
        "# ...\n",
        "\n",
        "@print_exits\n",
        "def some_func(...):\n",
        "    \"...\"\n",
        "\n",
        "@log_calls(log.info, errors=False)\n",
        "@log_errors(log.exception)\n",
        "def some_suspicious_function(...):\n",
        "    \"...\"\n",
        "\n",
        "with print_durations('Creating models'):\n",
        "    Model.objects.create(...)\n",
        "    # ...\n",
        "# 10.2 ms in Creating models\n",
        "```"
      ]
    },
    {
      "cell_type": "code",
      "metadata": {
        "id": "l2avFxhE7tcW"
      },
      "source": [
        "import funcy as fc"
      ],
      "execution_count": 3,
      "outputs": []
    },
    {
      "cell_type": "markdown",
      "metadata": {
        "id": "dyBNJsYr8xtN"
      },
      "source": [
        "# flatten\n",
        "\n",
        "一切皆可flatten，🐂🍺"
      ]
    },
    {
      "cell_type": "code",
      "metadata": {
        "colab": {
          "base_uri": "https://localhost:8080/"
        },
        "id": "_qlZLWkX7wyY",
        "outputId": "67b4bff6-e477-4a07-fcb0-f6af7660207b"
      },
      "source": [
        "l1 = [[1,2,3], [3,4,5],[3, [2,3, [3,2,4,5],4],4,5]]\n",
        "list(fc.flatten(l1))"
      ],
      "execution_count": 7,
      "outputs": [
        {
          "output_type": "execute_result",
          "data": {
            "text/plain": [
              "[1, 2, 3, 3, 4, 5, 3, 2, 3, 3, 2, 4, 5, 4, 4, 5]"
            ]
          },
          "metadata": {
            "tags": []
          },
          "execution_count": 7
        }
      ]
    },
    {
      "cell_type": "markdown",
      "metadata": {
        "id": "aHMXOAWd81F_"
      },
      "source": [
        "# interpose\n",
        "插入到两两元素之间"
      ]
    },
    {
      "cell_type": "code",
      "metadata": {
        "colab": {
          "base_uri": "https://localhost:8080/"
        },
        "id": "vihPtvHr7wvm",
        "outputId": "0cfc0919-9d31-4522-c3b4-b80953cb468b"
      },
      "source": [
        "list(fc.interpose(None, [1,2,3])"
      ],
      "execution_count": 9,
      "outputs": [
        {
          "output_type": "execute_result",
          "data": {
            "text/plain": [
              "[1, None, 2, None, 3]"
            ]
          },
          "metadata": {
            "tags": []
          },
          "execution_count": 9
        }
      ]
    },
    {
      "cell_type": "markdown",
      "metadata": {
        "id": "Y3hC3ktn9ZLs"
      },
      "source": [
        "# without\n",
        "\n",
        "简单粗暴，直接删除指定items"
      ]
    },
    {
      "cell_type": "code",
      "metadata": {
        "colab": {
          "base_uri": "https://localhost:8080/"
        },
        "id": "4AXRndKL7ws_",
        "outputId": "493ff061-9cd1-4e23-d55f-44d58f486f14"
      },
      "source": [
        "lst = [1,3,4,5]\n",
        "\n",
        "list(fc.without(lst,1,2,8))"
      ],
      "execution_count": 15,
      "outputs": [
        {
          "output_type": "execute_result",
          "data": {
            "text/plain": [
              "[3, 4, 5]"
            ]
          },
          "metadata": {
            "tags": []
          },
          "execution_count": 15
        }
      ]
    },
    {
      "cell_type": "markdown",
      "metadata": {
        "id": "NA3WfKkN_GWX"
      },
      "source": [
        "# remove\n",
        "\n",
        "按条件删除items"
      ]
    },
    {
      "cell_type": "code",
      "metadata": {
        "colab": {
          "base_uri": "https://localhost:8080/"
        },
        "id": "xheTT6MS9-FF",
        "outputId": "7fbb440c-9c88-49f9-9f86-8625ef89d2ba"
      },
      "source": [
        "list(fc.remove(lambda x: x == None or x == 4 or x%2 ==0, [None, 1,2,3,4]))"
      ],
      "execution_count": 28,
      "outputs": [
        {
          "output_type": "execute_result",
          "data": {
            "text/plain": [
              "[1, 3]"
            ]
          },
          "metadata": {
            "tags": []
          },
          "execution_count": 28
        }
      ]
    },
    {
      "cell_type": "markdown",
      "metadata": {
        "id": "TOi1womW_8OI"
      },
      "source": [
        "# group_by\n",
        "\n",
        "按照标准划分group，例如下例标准为length"
      ]
    },
    {
      "cell_type": "code",
      "metadata": {
        "colab": {
          "base_uri": "https://localhost:8080/"
        },
        "id": "CADvN3Oi7wqP",
        "outputId": "26a67006-6672-4ade-aa7d-be037f135dc0"
      },
      "source": [
        "stats = fc.group_by(len, ['a', 'bb', 'c', 'rrr', 'e'])\n",
        "\n",
        "print(stats[1])\n",
        "print(stats[2])\n",
        "print(stats[3])"
      ],
      "execution_count": 40,
      "outputs": [
        {
          "output_type": "stream",
          "text": [
            "['a', 'c', 'e']\n",
            "['bb']\n",
            "['rrr']\n"
          ],
          "name": "stdout"
        }
      ]
    },
    {
      "cell_type": "markdown",
      "metadata": {
        "id": "LvZnzW3JA_ON"
      },
      "source": [
        "# partition & chunks # pairwise\n",
        "\n",
        "按照要求进行chunk"
      ]
    },
    {
      "cell_type": "code",
      "metadata": {
        "colab": {
          "base_uri": "https://localhost:8080/"
        },
        "id": "47-Z0bxt7wns",
        "outputId": "eb9fca75-08be-4271-c5d7-009ca74c7385"
      },
      "source": [
        "list(fc.partition(4, list(range(21))))"
      ],
      "execution_count": 42,
      "outputs": [
        {
          "output_type": "execute_result",
          "data": {
            "text/plain": [
              "[[0, 1, 2, 3],\n",
              " [4, 5, 6, 7],\n",
              " [8, 9, 10, 11],\n",
              " [12, 13, 14, 15],\n",
              " [16, 17, 18, 19]]"
            ]
          },
          "metadata": {
            "tags": []
          },
          "execution_count": 42
        }
      ]
    },
    {
      "cell_type": "code",
      "metadata": {
        "colab": {
          "base_uri": "https://localhost:8080/"
        },
        "id": "Qm5_dUHO7wll",
        "outputId": "2690f3ed-6cf7-49a9-dd20-98b914a11246"
      },
      "source": [
        "list(fc.chunks(4, list(range(21))))"
      ],
      "execution_count": 43,
      "outputs": [
        {
          "output_type": "execute_result",
          "data": {
            "text/plain": [
              "[[0, 1, 2, 3],\n",
              " [4, 5, 6, 7],\n",
              " [8, 9, 10, 11],\n",
              " [12, 13, 14, 15],\n",
              " [16, 17, 18, 19],\n",
              " [20]]"
            ]
          },
          "metadata": {
            "tags": []
          },
          "execution_count": 43
        }
      ]
    },
    {
      "cell_type": "code",
      "metadata": {
        "colab": {
          "base_uri": "https://localhost:8080/"
        },
        "id": "SHNhC4DY7wi4",
        "outputId": "573228b4-a51a-4af6-9935-6656dcb53927"
      },
      "source": [
        "list(fc.pairwise(list(range(11))))"
      ],
      "execution_count": 46,
      "outputs": [
        {
          "output_type": "execute_result",
          "data": {
            "text/plain": [
              "[(0, 1),\n",
              " (1, 2),\n",
              " (2, 3),\n",
              " (3, 4),\n",
              " (4, 5),\n",
              " (5, 6),\n",
              " (6, 7),\n",
              " (7, 8),\n",
              " (8, 9),\n",
              " (9, 10)]"
            ]
          },
          "metadata": {
            "tags": []
          },
          "execution_count": 46
        }
      ]
    },
    {
      "cell_type": "markdown",
      "metadata": {
        "id": "s1ee6w1GDpyY"
      },
      "source": [
        "# merge\n",
        "\n",
        "合并多个列表"
      ]
    },
    {
      "cell_type": "code",
      "metadata": {
        "colab": {
          "base_uri": "https://localhost:8080/"
        },
        "id": "yX_Iau8W7wfz",
        "outputId": "0f223118-2322-4f89-e02f-c5e2d5f8ba01"
      },
      "source": [
        "print('列表', list(fc.merge([1,2], [2,3])))\n",
        "\n",
        "print('集合', list(fc.merge({1,2},{3,4,2},{1,2,6,7},{2,3,5,9})))\n",
        "\n",
        "print('字典', fc.merge(*[{1:1,2:2},{1:23,4:3}]))"
      ],
      "execution_count": 57,
      "outputs": [
        {
          "output_type": "stream",
          "text": [
            "列表 [1, 2, 2, 3]\n",
            "集合 [1, 2, 3, 4, 5, 6, 7, 9]\n",
            "字典 {1: 23, 2: 2, 4: 3}\n"
          ],
          "name": "stdout"
        }
      ]
    },
    {
      "cell_type": "markdown",
      "metadata": {
        "id": "FldOezXCIO8Y"
      },
      "source": [
        "# merge_with\n",
        "\n",
        "values合并，可以sum也可以别的"
      ]
    },
    {
      "cell_type": "code",
      "metadata": {
        "colab": {
          "base_uri": "https://localhost:8080/"
        },
        "id": "j3WzDguJICpu",
        "outputId": "77e9ad2e-2bb6-48aa-c38e-a0554db815a6"
      },
      "source": [
        "fc.merge_with(sum, {1:3, 3:10}, {3:5})"
      ],
      "execution_count": 95,
      "outputs": [
        {
          "output_type": "execute_result",
          "data": {
            "text/plain": [
              "{1: 3, 3: 15}"
            ]
          },
          "metadata": {
            "tags": []
          },
          "execution_count": 95
        }
      ]
    },
    {
      "cell_type": "markdown",
      "metadata": {
        "id": "ke3SlxECIzhY"
      },
      "source": [
        "# walk\n",
        "\n",
        "类似map，但是保持type"
      ]
    },
    {
      "cell_type": "code",
      "metadata": {
        "colab": {
          "base_uri": "https://localhost:8080/"
        },
        "id": "hGTPL7GLIkdj",
        "outputId": "aa9b52d5-9c51-46e8-958c-0dc19a286175"
      },
      "source": [
        "print(fc.walk(str.upper, {'a', 'b'}))            # {'A', 'B'}\n",
        "print(fc.walk(reversed, {'a': 1, 'b': 2}))       # {1: 'a', 2: 'b'}\n",
        "#fc.walk_keys(double, {'a': 1, 'b': 2})    # {'aa': 1, 'bb': 2}\n",
        "#fc.walk_values(inc, {'a': 1, 'b': 2})     # {'a': 2, 'b': 3}"
      ],
      "execution_count": 104,
      "outputs": [
        {
          "output_type": "stream",
          "text": [
            "{'A', 'B'}\n",
            "{1: 'a', 2: 'b'}\n"
          ],
          "name": "stdout"
        }
      ]
    },
    {
      "cell_type": "markdown",
      "metadata": {
        "id": "fnqQymkAJEDx"
      },
      "source": [
        "# select\n",
        "\n",
        "类似filter"
      ]
    },
    {
      "cell_type": "code",
      "metadata": {
        "colab": {
          "base_uri": "https://localhost:8080/"
        },
        "id": "7zmlt1C8JDns",
        "outputId": "10fd42e4-862a-4210-b63f-6266f3bec130"
      },
      "source": [
        "#select(even, {1,2,3,10,20})                  # {2,10,20}\n",
        "print(fc.select(r'^a', ('a','b','ab','ba')))           # ('a','ab')\n",
        "#select_keys(callable, {str: '', None: None}) # {str: ''}\n",
        "print(fc.compact({2, None, 1, 0}))                     # {1,2}"
      ],
      "execution_count": 103,
      "outputs": [
        {
          "output_type": "stream",
          "text": [
            "('a', 'ab')\n",
            "{1, 2}\n"
          ],
          "name": "stdout"
        }
      ]
    },
    {
      "cell_type": "markdown",
      "metadata": {
        "id": "KW5UzO0-D2Tg"
      },
      "source": [
        "# silent\n",
        "\n",
        "Ignore all real exceptions"
      ]
    },
    {
      "cell_type": "code",
      "metadata": {
        "colab": {
          "base_uri": "https://localhost:8080/"
        },
        "id": "8wjRzngo7wdJ",
        "outputId": "45ec1d44-1cee-4764-a189-807f024ae1eb"
      },
      "source": [
        "# 对 `1`使用int function，如果正常就输出1，否则输出None\n",
        "fc.silent(int)('1')   # 正常"
      ],
      "execution_count": 98,
      "outputs": [
        {
          "output_type": "execute_result",
          "data": {
            "text/plain": [
              "1"
            ]
          },
          "metadata": {
            "tags": []
          },
          "execution_count": 98
        }
      ]
    },
    {
      "cell_type": "code",
      "metadata": {
        "colab": {
          "base_uri": "https://localhost:8080/"
        },
        "id": "Y9jDQplY7waF",
        "outputId": "5c521371-0eee-4316-e8a5-2a5d0e6c2c4c"
      },
      "source": [
        "fc.silent(int)('abc') == None   # 错误，但是不报错"
      ],
      "execution_count": 62,
      "outputs": [
        {
          "output_type": "execute_result",
          "data": {
            "text/plain": [
              "True"
            ]
          },
          "metadata": {
            "tags": []
          },
          "execution_count": 62
        }
      ]
    },
    {
      "cell_type": "markdown",
      "metadata": {
        "id": "pyVI0pc9E6J2"
      },
      "source": [
        "# tap\n",
        "\n",
        "list comprehension也能照样print结果"
      ]
    },
    {
      "cell_type": "code",
      "metadata": {
        "colab": {
          "base_uri": "https://localhost:8080/"
        },
        "id": "WNRfOG2Z7wXa",
        "outputId": "12a3d1f2-7562-4e7b-a6ab-4bed2bd04b34"
      },
      "source": [
        "[fc.tap(i**2, 'x^2') for i in range(5)]"
      ],
      "execution_count": 70,
      "outputs": [
        {
          "output_type": "stream",
          "text": [
            "x^2: 0\n",
            "x^2: 1\n",
            "x^2: 4\n",
            "x^2: 9\n",
            "x^2: 16\n"
          ],
          "name": "stdout"
        },
        {
          "output_type": "execute_result",
          "data": {
            "text/plain": [
              "[0, 1, 4, 9, 16]"
            ]
          },
          "metadata": {
            "tags": []
          },
          "execution_count": 70
        }
      ]
    },
    {
      "cell_type": "markdown",
      "metadata": {
        "id": "Ivhz1VEGFIbt"
      },
      "source": [
        "# once\n",
        "\n",
        "让某个方程在全局只执行一次"
      ]
    },
    {
      "cell_type": "code",
      "metadata": {
        "colab": {
          "base_uri": "https://localhost:8080/"
        },
        "id": "ZWeJ11jz7wUC",
        "outputId": "3b8420da-cb0f-4849-f96d-aa6f8d2aadf4"
      },
      "source": [
        "@fc.once\n",
        "def func(x):\n",
        "  return x**2\n",
        "\n",
        "print(func(5))\n",
        "\n",
        "print(func(5))"
      ],
      "execution_count": 71,
      "outputs": [
        {
          "output_type": "stream",
          "text": [
            "25\n",
            "None\n"
          ],
          "name": "stdout"
        }
      ]
    },
    {
      "cell_type": "markdown",
      "metadata": {
        "id": "hrN61WugFcdG"
      },
      "source": [
        "# memoize\n",
        "\n",
        "记忆方程输出，即使中途被打断，依然记得之前所有的值"
      ]
    },
    {
      "cell_type": "code",
      "metadata": {
        "colab": {
          "base_uri": "https://localhost:8080/",
          "height": 613
        },
        "id": "ia_S3Wci7wQ8",
        "outputId": "486ac931-e562-4ef9-ad61-2a77d0184e04"
      },
      "source": [
        "%%time\n",
        "\n",
        "import math\n",
        "\n",
        "@fc.memoize\n",
        "def func(x):\n",
        "  return 12/x\n",
        "\n",
        "[fc.tap(func(x)) for x in [1,4,6,0,5,4]]"
      ],
      "execution_count": 90,
      "outputs": [
        {
          "output_type": "stream",
          "text": [
            "12.0\n",
            "3.0\n",
            "2.0\n"
          ],
          "name": "stdout"
        },
        {
          "output_type": "error",
          "ename": "ZeroDivisionError",
          "evalue": "ignored",
          "traceback": [
            "\u001b[0;31m---------------------------------------------------------------------------\u001b[0m",
            "\u001b[0;31mKeyError\u001b[0m                                  Traceback (most recent call last)",
            "\u001b[0;32m/usr/local/lib/python3.7/dist-packages/funcy/calc.py\u001b[0m in \u001b[0;36mwrapper\u001b[0;34m(*args, **kwargs)\u001b[0m\n\u001b[1;32m     40\u001b[0m             \u001b[0;32mtry\u001b[0m\u001b[0;34m:\u001b[0m\u001b[0;34m\u001b[0m\u001b[0;34m\u001b[0m\u001b[0m\n\u001b[0;32m---> 41\u001b[0;31m                 \u001b[0;32mreturn\u001b[0m \u001b[0mmemory\u001b[0m\u001b[0;34m[\u001b[0m\u001b[0mkey\u001b[0m\u001b[0;34m]\u001b[0m\u001b[0;34m\u001b[0m\u001b[0;34m\u001b[0m\u001b[0m\n\u001b[0m\u001b[1;32m     42\u001b[0m             \u001b[0;32mexcept\u001b[0m \u001b[0mKeyError\u001b[0m\u001b[0;34m:\u001b[0m\u001b[0;34m\u001b[0m\u001b[0;34m\u001b[0m\u001b[0m\n",
            "\u001b[0;31mKeyError\u001b[0m: (0,)",
            "\nDuring handling of the above exception, another exception occurred:\n",
            "\u001b[0;31mZeroDivisionError\u001b[0m                         Traceback (most recent call last)",
            "\u001b[0;32m<ipython-input-90-9f0a0b648e9c>\u001b[0m in \u001b[0;36m<module>\u001b[0;34m()\u001b[0m\n\u001b[0;32m----> 1\u001b[0;31m \u001b[0mget_ipython\u001b[0m\u001b[0;34m(\u001b[0m\u001b[0;34m)\u001b[0m\u001b[0;34m.\u001b[0m\u001b[0mrun_cell_magic\u001b[0m\u001b[0;34m(\u001b[0m\u001b[0;34m'time'\u001b[0m\u001b[0;34m,\u001b[0m \u001b[0;34m''\u001b[0m\u001b[0;34m,\u001b[0m \u001b[0;34m'\\nimport math\\n\\n@fc.memoize\\ndef func(x):\\n  return 12/x\\n\\n[fc.tap(func(x)) for x in [1,4,6,0,5,4]]'\u001b[0m\u001b[0;34m)\u001b[0m\u001b[0;34m\u001b[0m\u001b[0;34m\u001b[0m\u001b[0m\n\u001b[0m",
            "\u001b[0;32m/usr/local/lib/python3.7/dist-packages/IPython/core/interactiveshell.py\u001b[0m in \u001b[0;36mrun_cell_magic\u001b[0;34m(self, magic_name, line, cell)\u001b[0m\n\u001b[1;32m   2115\u001b[0m             \u001b[0mmagic_arg_s\u001b[0m \u001b[0;34m=\u001b[0m \u001b[0mself\u001b[0m\u001b[0;34m.\u001b[0m\u001b[0mvar_expand\u001b[0m\u001b[0;34m(\u001b[0m\u001b[0mline\u001b[0m\u001b[0;34m,\u001b[0m \u001b[0mstack_depth\u001b[0m\u001b[0;34m)\u001b[0m\u001b[0;34m\u001b[0m\u001b[0;34m\u001b[0m\u001b[0m\n\u001b[1;32m   2116\u001b[0m             \u001b[0;32mwith\u001b[0m \u001b[0mself\u001b[0m\u001b[0;34m.\u001b[0m\u001b[0mbuiltin_trap\u001b[0m\u001b[0;34m:\u001b[0m\u001b[0;34m\u001b[0m\u001b[0;34m\u001b[0m\u001b[0m\n\u001b[0;32m-> 2117\u001b[0;31m                 \u001b[0mresult\u001b[0m \u001b[0;34m=\u001b[0m \u001b[0mfn\u001b[0m\u001b[0;34m(\u001b[0m\u001b[0mmagic_arg_s\u001b[0m\u001b[0;34m,\u001b[0m \u001b[0mcell\u001b[0m\u001b[0;34m)\u001b[0m\u001b[0;34m\u001b[0m\u001b[0;34m\u001b[0m\u001b[0m\n\u001b[0m\u001b[1;32m   2118\u001b[0m             \u001b[0;32mreturn\u001b[0m \u001b[0mresult\u001b[0m\u001b[0;34m\u001b[0m\u001b[0;34m\u001b[0m\u001b[0m\n\u001b[1;32m   2119\u001b[0m \u001b[0;34m\u001b[0m\u001b[0m\n",
            "\u001b[0;32m<decorator-gen-53>\u001b[0m in \u001b[0;36mtime\u001b[0;34m(self, line, cell, local_ns)\u001b[0m\n",
            "\u001b[0;32m/usr/local/lib/python3.7/dist-packages/IPython/core/magic.py\u001b[0m in \u001b[0;36m<lambda>\u001b[0;34m(f, *a, **k)\u001b[0m\n\u001b[1;32m    186\u001b[0m     \u001b[0;31m# but it's overkill for just that one bit of state.\u001b[0m\u001b[0;34m\u001b[0m\u001b[0;34m\u001b[0m\u001b[0;34m\u001b[0m\u001b[0m\n\u001b[1;32m    187\u001b[0m     \u001b[0;32mdef\u001b[0m \u001b[0mmagic_deco\u001b[0m\u001b[0;34m(\u001b[0m\u001b[0marg\u001b[0m\u001b[0;34m)\u001b[0m\u001b[0;34m:\u001b[0m\u001b[0;34m\u001b[0m\u001b[0;34m\u001b[0m\u001b[0m\n\u001b[0;32m--> 188\u001b[0;31m         \u001b[0mcall\u001b[0m \u001b[0;34m=\u001b[0m \u001b[0;32mlambda\u001b[0m \u001b[0mf\u001b[0m\u001b[0;34m,\u001b[0m \u001b[0;34m*\u001b[0m\u001b[0ma\u001b[0m\u001b[0;34m,\u001b[0m \u001b[0;34m**\u001b[0m\u001b[0mk\u001b[0m\u001b[0;34m:\u001b[0m \u001b[0mf\u001b[0m\u001b[0;34m(\u001b[0m\u001b[0;34m*\u001b[0m\u001b[0ma\u001b[0m\u001b[0;34m,\u001b[0m \u001b[0;34m**\u001b[0m\u001b[0mk\u001b[0m\u001b[0;34m)\u001b[0m\u001b[0;34m\u001b[0m\u001b[0;34m\u001b[0m\u001b[0m\n\u001b[0m\u001b[1;32m    189\u001b[0m \u001b[0;34m\u001b[0m\u001b[0m\n\u001b[1;32m    190\u001b[0m         \u001b[0;32mif\u001b[0m \u001b[0mcallable\u001b[0m\u001b[0;34m(\u001b[0m\u001b[0marg\u001b[0m\u001b[0;34m)\u001b[0m\u001b[0;34m:\u001b[0m\u001b[0;34m\u001b[0m\u001b[0;34m\u001b[0m\u001b[0m\n",
            "\u001b[0;32m/usr/local/lib/python3.7/dist-packages/IPython/core/magics/execution.py\u001b[0m in \u001b[0;36mtime\u001b[0;34m(self, line, cell, local_ns)\u001b[0m\n\u001b[1;32m   1191\u001b[0m         \u001b[0;32melse\u001b[0m\u001b[0;34m:\u001b[0m\u001b[0;34m\u001b[0m\u001b[0;34m\u001b[0m\u001b[0m\n\u001b[1;32m   1192\u001b[0m             \u001b[0mst\u001b[0m \u001b[0;34m=\u001b[0m \u001b[0mclock2\u001b[0m\u001b[0;34m(\u001b[0m\u001b[0;34m)\u001b[0m\u001b[0;34m\u001b[0m\u001b[0;34m\u001b[0m\u001b[0m\n\u001b[0;32m-> 1193\u001b[0;31m             \u001b[0mexec\u001b[0m\u001b[0;34m(\u001b[0m\u001b[0mcode\u001b[0m\u001b[0;34m,\u001b[0m \u001b[0mglob\u001b[0m\u001b[0;34m,\u001b[0m \u001b[0mlocal_ns\u001b[0m\u001b[0;34m)\u001b[0m\u001b[0;34m\u001b[0m\u001b[0;34m\u001b[0m\u001b[0m\n\u001b[0m\u001b[1;32m   1194\u001b[0m             \u001b[0mend\u001b[0m \u001b[0;34m=\u001b[0m \u001b[0mclock2\u001b[0m\u001b[0;34m(\u001b[0m\u001b[0;34m)\u001b[0m\u001b[0;34m\u001b[0m\u001b[0;34m\u001b[0m\u001b[0m\n\u001b[1;32m   1195\u001b[0m             \u001b[0mout\u001b[0m \u001b[0;34m=\u001b[0m \u001b[0;32mNone\u001b[0m\u001b[0;34m\u001b[0m\u001b[0;34m\u001b[0m\u001b[0m\n",
            "\u001b[0;32m<timed exec>\u001b[0m in \u001b[0;36m<module>\u001b[0;34m()\u001b[0m\n",
            "\u001b[0;32m<timed exec>\u001b[0m in \u001b[0;36m<listcomp>\u001b[0;34m(.0)\u001b[0m\n",
            "\u001b[0;32m/usr/local/lib/python3.7/dist-packages/funcy/calc.py\u001b[0m in \u001b[0;36mwrapper\u001b[0;34m(*args, **kwargs)\u001b[0m\n\u001b[1;32m     42\u001b[0m             \u001b[0;32mexcept\u001b[0m \u001b[0mKeyError\u001b[0m\u001b[0;34m:\u001b[0m\u001b[0;34m\u001b[0m\u001b[0;34m\u001b[0m\u001b[0m\n\u001b[1;32m     43\u001b[0m                 \u001b[0;32mtry\u001b[0m\u001b[0;34m:\u001b[0m\u001b[0;34m\u001b[0m\u001b[0;34m\u001b[0m\u001b[0m\n\u001b[0;32m---> 44\u001b[0;31m                     \u001b[0mvalue\u001b[0m \u001b[0;34m=\u001b[0m \u001b[0mmemory\u001b[0m\u001b[0;34m[\u001b[0m\u001b[0mkey\u001b[0m\u001b[0;34m]\u001b[0m \u001b[0;34m=\u001b[0m \u001b[0mfunc\u001b[0m\u001b[0;34m(\u001b[0m\u001b[0;34m*\u001b[0m\u001b[0margs\u001b[0m\u001b[0;34m,\u001b[0m \u001b[0;34m**\u001b[0m\u001b[0mkwargs\u001b[0m\u001b[0;34m)\u001b[0m\u001b[0;34m\u001b[0m\u001b[0;34m\u001b[0m\u001b[0m\n\u001b[0m\u001b[1;32m     45\u001b[0m                     \u001b[0;32mreturn\u001b[0m \u001b[0mvalue\u001b[0m\u001b[0;34m\u001b[0m\u001b[0;34m\u001b[0m\u001b[0m\n\u001b[1;32m     46\u001b[0m                 \u001b[0;32mexcept\u001b[0m \u001b[0mSkipMemoization\u001b[0m \u001b[0;32mas\u001b[0m \u001b[0me\u001b[0m\u001b[0;34m:\u001b[0m\u001b[0;34m\u001b[0m\u001b[0;34m\u001b[0m\u001b[0m\n",
            "\u001b[0;32m<timed exec>\u001b[0m in \u001b[0;36mfunc\u001b[0;34m(x)\u001b[0m\n",
            "\u001b[0;31mZeroDivisionError\u001b[0m: division by zero"
          ]
        }
      ]
    },
    {
      "cell_type": "code",
      "metadata": {
        "colab": {
          "base_uri": "https://localhost:8080/"
        },
        "id": "TYWF2F9e7tZb",
        "outputId": "cad54934-58d9-472e-d57b-3ce9b74c0c60"
      },
      "source": [
        "func.memory"
      ],
      "execution_count": 91,
      "outputs": [
        {
          "output_type": "execute_result",
          "data": {
            "text/plain": [
              "{(1,): 12.0, (4,): 3.0, (6,): 2.0}"
            ]
          },
          "metadata": {
            "tags": []
          },
          "execution_count": 91
        }
      ]
    },
    {
      "cell_type": "code",
      "metadata": {
        "colab": {
          "base_uri": "https://localhost:8080/"
        },
        "id": "uWqSKzxJGQzj",
        "outputId": "4bf0acd3-bb60-4b42-88dd-9723b704e6be"
      },
      "source": [
        "# 填充到memory\n",
        "func.memory.update({(2, ): func(2)})\n",
        "func.memory"
      ],
      "execution_count": 92,
      "outputs": [
        {
          "output_type": "execute_result",
          "data": {
            "text/plain": [
              "{(1,): 12.0, (2,): 6.0, (4,): 3.0, (6,): 2.0}"
            ]
          },
          "metadata": {
            "tags": []
          },
          "execution_count": 92
        }
      ]
    },
    {
      "cell_type": "code",
      "metadata": {
        "colab": {
          "base_uri": "https://localhost:8080/"
        },
        "id": "8nvVFm6S7tXE",
        "outputId": "3b74853f-f4b5-48ec-f10b-bf422caa4125"
      },
      "source": [
        "func.memory.clear()\n",
        "func.memory"
      ],
      "execution_count": 93,
      "outputs": [
        {
          "output_type": "execute_result",
          "data": {
            "text/plain": [
              "{}"
            ]
          },
          "metadata": {
            "tags": []
          },
          "execution_count": 93
        }
      ]
    },
    {
      "cell_type": "code",
      "metadata": {
        "id": "-3fjrzCT7tVT"
      },
      "source": [
        ""
      ],
      "execution_count": null,
      "outputs": []
    }
  ]
}